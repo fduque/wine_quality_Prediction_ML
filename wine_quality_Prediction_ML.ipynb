{
  "nbformat": 4,
  "nbformat_minor": 0,
  "metadata": {
    "colab": {
      "name": "wine_quality_Prediction_ML.ipynb",
      "provenance": [],
      "collapsed_sections": [],
      "authorship_tag": "ABX9TyPniFhwLLJf6mJ+uztGtna1"
    },
    "kernelspec": {
      "name": "python3",
      "display_name": "Python 3"
    }
  },
  "cells": [
    {
      "cell_type": "markdown",
      "metadata": {
        "id": "gSSDAl6emTrs",
        "colab_type": "text"
      },
      "source": [
        "## Target: Choose best model to predict Wine Quality based on historical sensored data."
      ]
    },
    {
      "cell_type": "markdown",
      "metadata": {
        "id": "Wjl4f93V-_g8",
        "colab_type": "text"
      },
      "source": [
        "We'll compare the accuracy across different ML models. \n",
        "\n",
        "*Note: There won't be Parameter Tunning phase in this analysis.*"
      ]
    },
    {
      "cell_type": "markdown",
      "metadata": {
        "id": "0Cz-pwgWmODy",
        "colab_type": "text"
      },
      "source": [
        "*Dataset* origin: UCI Machine Learning Repository\n",
        "(https://archive.ics.uci.edu/ml/datasets/wine). "
      ]
    },
    {
      "cell_type": "code",
      "metadata": {
        "id": "HCSXnTMQmRhM",
        "colab_type": "code",
        "outputId": "62078870-f656-4b39-8b25-eef710b45145",
        "colab": {
          "resources": {
            "http://localhost:8080/nbextensions/google.colab/files.js": {
              "data": "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",
              "ok": true,
              "headers": [
                [
                  "content-type",
                  "application/javascript"
                ]
              ],
              "status": 200,
              "status_text": ""
            }
          },
          "base_uri": "https://localhost:8080/",
          "height": 74
        }
      },
      "source": [
        "import pandas as pd\n",
        "import numpy as np\n",
        "import pylab as pl #chart lib\n",
        "from google.colab import files  #biblioteca utilizada para carregar os dados para o google colab\n",
        "uploaded = files.upload()"
      ],
      "execution_count": 173,
      "outputs": [
        {
          "output_type": "display_data",
          "data": {
            "text/html": [
              "\n",
              "     <input type=\"file\" id=\"files-34633acc-c945-4687-bed1-6bb475b37f77\" name=\"files[]\" multiple disabled />\n",
              "     <output id=\"result-34633acc-c945-4687-bed1-6bb475b37f77\">\n",
              "      Upload widget is only available when the cell has been executed in the\n",
              "      current browser session. Please rerun this cell to enable.\n",
              "      </output>\n",
              "      <script src=\"/nbextensions/google.colab/files.js\"></script> "
            ],
            "text/plain": [
              "<IPython.core.display.HTML object>"
            ]
          },
          "metadata": {
            "tags": []
          }
        },
        {
          "output_type": "stream",
          "text": [
            "Saving winequality-red.csv to winequality-red (2).csv\n"
          ],
          "name": "stdout"
        }
      ]
    },
    {
      "cell_type": "code",
      "metadata": {
        "id": "yMZzbHdamjLJ",
        "colab_type": "code",
        "colab": {}
      },
      "source": [
        "#reading and converting dataset into a dataframe\n",
        "file =\"winequality-red.csv\"\n",
        "df= pd.read_csv(file, sep=';')"
      ],
      "execution_count": 0,
      "outputs": []
    },
    {
      "cell_type": "code",
      "metadata": {
        "id": "yvUU-0SYnOk2",
        "colab_type": "code",
        "outputId": "e57f31dc-12b4-4b7f-96e8-33cd94a0fa1d",
        "colab": {
          "base_uri": "https://localhost:8080/",
          "height": 195
        }
      },
      "source": [
        "df.head()"
      ],
      "execution_count": 175,
      "outputs": [
        {
          "output_type": "execute_result",
          "data": {
            "text/html": [
              "<div>\n",
              "<style scoped>\n",
              "    .dataframe tbody tr th:only-of-type {\n",
              "        vertical-align: middle;\n",
              "    }\n",
              "\n",
              "    .dataframe tbody tr th {\n",
              "        vertical-align: top;\n",
              "    }\n",
              "\n",
              "    .dataframe thead th {\n",
              "        text-align: right;\n",
              "    }\n",
              "</style>\n",
              "<table border=\"1\" class=\"dataframe\">\n",
              "  <thead>\n",
              "    <tr style=\"text-align: right;\">\n",
              "      <th></th>\n",
              "      <th>fixed acidity</th>\n",
              "      <th>volatile acidity</th>\n",
              "      <th>citric acid</th>\n",
              "      <th>residual sugar</th>\n",
              "      <th>chlorides</th>\n",
              "      <th>free sulfur dioxide</th>\n",
              "      <th>total sulfur dioxide</th>\n",
              "      <th>density</th>\n",
              "      <th>pH</th>\n",
              "      <th>sulphates</th>\n",
              "      <th>alcohol</th>\n",
              "      <th>quality</th>\n",
              "    </tr>\n",
              "  </thead>\n",
              "  <tbody>\n",
              "    <tr>\n",
              "      <th>0</th>\n",
              "      <td>7.4</td>\n",
              "      <td>0.70</td>\n",
              "      <td>0.00</td>\n",
              "      <td>1.9</td>\n",
              "      <td>0.076</td>\n",
              "      <td>11.0</td>\n",
              "      <td>34.0</td>\n",
              "      <td>0.9978</td>\n",
              "      <td>3.51</td>\n",
              "      <td>0.56</td>\n",
              "      <td>9.4</td>\n",
              "      <td>5</td>\n",
              "    </tr>\n",
              "    <tr>\n",
              "      <th>1</th>\n",
              "      <td>7.8</td>\n",
              "      <td>0.88</td>\n",
              "      <td>0.00</td>\n",
              "      <td>2.6</td>\n",
              "      <td>0.098</td>\n",
              "      <td>25.0</td>\n",
              "      <td>67.0</td>\n",
              "      <td>0.9968</td>\n",
              "      <td>3.20</td>\n",
              "      <td>0.68</td>\n",
              "      <td>9.8</td>\n",
              "      <td>5</td>\n",
              "    </tr>\n",
              "    <tr>\n",
              "      <th>2</th>\n",
              "      <td>7.8</td>\n",
              "      <td>0.76</td>\n",
              "      <td>0.04</td>\n",
              "      <td>2.3</td>\n",
              "      <td>0.092</td>\n",
              "      <td>15.0</td>\n",
              "      <td>54.0</td>\n",
              "      <td>0.9970</td>\n",
              "      <td>3.26</td>\n",
              "      <td>0.65</td>\n",
              "      <td>9.8</td>\n",
              "      <td>5</td>\n",
              "    </tr>\n",
              "    <tr>\n",
              "      <th>3</th>\n",
              "      <td>11.2</td>\n",
              "      <td>0.28</td>\n",
              "      <td>0.56</td>\n",
              "      <td>1.9</td>\n",
              "      <td>0.075</td>\n",
              "      <td>17.0</td>\n",
              "      <td>60.0</td>\n",
              "      <td>0.9980</td>\n",
              "      <td>3.16</td>\n",
              "      <td>0.58</td>\n",
              "      <td>9.8</td>\n",
              "      <td>6</td>\n",
              "    </tr>\n",
              "    <tr>\n",
              "      <th>4</th>\n",
              "      <td>7.4</td>\n",
              "      <td>0.70</td>\n",
              "      <td>0.00</td>\n",
              "      <td>1.9</td>\n",
              "      <td>0.076</td>\n",
              "      <td>11.0</td>\n",
              "      <td>34.0</td>\n",
              "      <td>0.9978</td>\n",
              "      <td>3.51</td>\n",
              "      <td>0.56</td>\n",
              "      <td>9.4</td>\n",
              "      <td>5</td>\n",
              "    </tr>\n",
              "  </tbody>\n",
              "</table>\n",
              "</div>"
            ],
            "text/plain": [
              "   fixed acidity  volatile acidity  citric acid  ...  sulphates  alcohol  quality\n",
              "0            7.4              0.70         0.00  ...       0.56      9.4        5\n",
              "1            7.8              0.88         0.00  ...       0.68      9.8        5\n",
              "2            7.8              0.76         0.04  ...       0.65      9.8        5\n",
              "3           11.2              0.28         0.56  ...       0.58      9.8        6\n",
              "4            7.4              0.70         0.00  ...       0.56      9.4        5\n",
              "\n",
              "[5 rows x 12 columns]"
            ]
          },
          "metadata": {
            "tags": []
          },
          "execution_count": 175
        }
      ]
    },
    {
      "cell_type": "code",
      "metadata": {
        "id": "-78HzEmToLip",
        "colab_type": "code",
        "outputId": "745fa8d4-e9a5-4293-f1d8-04b28a8b6b90",
        "colab": {
          "base_uri": "https://localhost:8080/",
          "height": 301
        }
      },
      "source": [
        "df.describe()"
      ],
      "execution_count": 176,
      "outputs": [
        {
          "output_type": "execute_result",
          "data": {
            "text/html": [
              "<div>\n",
              "<style scoped>\n",
              "    .dataframe tbody tr th:only-of-type {\n",
              "        vertical-align: middle;\n",
              "    }\n",
              "\n",
              "    .dataframe tbody tr th {\n",
              "        vertical-align: top;\n",
              "    }\n",
              "\n",
              "    .dataframe thead th {\n",
              "        text-align: right;\n",
              "    }\n",
              "</style>\n",
              "<table border=\"1\" class=\"dataframe\">\n",
              "  <thead>\n",
              "    <tr style=\"text-align: right;\">\n",
              "      <th></th>\n",
              "      <th>fixed acidity</th>\n",
              "      <th>volatile acidity</th>\n",
              "      <th>citric acid</th>\n",
              "      <th>residual sugar</th>\n",
              "      <th>chlorides</th>\n",
              "      <th>free sulfur dioxide</th>\n",
              "      <th>total sulfur dioxide</th>\n",
              "      <th>density</th>\n",
              "      <th>pH</th>\n",
              "      <th>sulphates</th>\n",
              "      <th>alcohol</th>\n",
              "      <th>quality</th>\n",
              "    </tr>\n",
              "  </thead>\n",
              "  <tbody>\n",
              "    <tr>\n",
              "      <th>count</th>\n",
              "      <td>1599.000000</td>\n",
              "      <td>1599.000000</td>\n",
              "      <td>1599.000000</td>\n",
              "      <td>1599.000000</td>\n",
              "      <td>1599.000000</td>\n",
              "      <td>1599.000000</td>\n",
              "      <td>1599.000000</td>\n",
              "      <td>1599.000000</td>\n",
              "      <td>1599.000000</td>\n",
              "      <td>1599.000000</td>\n",
              "      <td>1599.000000</td>\n",
              "      <td>1599.000000</td>\n",
              "    </tr>\n",
              "    <tr>\n",
              "      <th>mean</th>\n",
              "      <td>8.319637</td>\n",
              "      <td>0.527821</td>\n",
              "      <td>0.270976</td>\n",
              "      <td>2.538806</td>\n",
              "      <td>0.087467</td>\n",
              "      <td>15.874922</td>\n",
              "      <td>46.467792</td>\n",
              "      <td>0.996747</td>\n",
              "      <td>3.311113</td>\n",
              "      <td>0.658149</td>\n",
              "      <td>10.422983</td>\n",
              "      <td>5.636023</td>\n",
              "    </tr>\n",
              "    <tr>\n",
              "      <th>std</th>\n",
              "      <td>1.741096</td>\n",
              "      <td>0.179060</td>\n",
              "      <td>0.194801</td>\n",
              "      <td>1.409928</td>\n",
              "      <td>0.047065</td>\n",
              "      <td>10.460157</td>\n",
              "      <td>32.895324</td>\n",
              "      <td>0.001887</td>\n",
              "      <td>0.154386</td>\n",
              "      <td>0.169507</td>\n",
              "      <td>1.065668</td>\n",
              "      <td>0.807569</td>\n",
              "    </tr>\n",
              "    <tr>\n",
              "      <th>min</th>\n",
              "      <td>4.600000</td>\n",
              "      <td>0.120000</td>\n",
              "      <td>0.000000</td>\n",
              "      <td>0.900000</td>\n",
              "      <td>0.012000</td>\n",
              "      <td>1.000000</td>\n",
              "      <td>6.000000</td>\n",
              "      <td>0.990070</td>\n",
              "      <td>2.740000</td>\n",
              "      <td>0.330000</td>\n",
              "      <td>8.400000</td>\n",
              "      <td>3.000000</td>\n",
              "    </tr>\n",
              "    <tr>\n",
              "      <th>25%</th>\n",
              "      <td>7.100000</td>\n",
              "      <td>0.390000</td>\n",
              "      <td>0.090000</td>\n",
              "      <td>1.900000</td>\n",
              "      <td>0.070000</td>\n",
              "      <td>7.000000</td>\n",
              "      <td>22.000000</td>\n",
              "      <td>0.995600</td>\n",
              "      <td>3.210000</td>\n",
              "      <td>0.550000</td>\n",
              "      <td>9.500000</td>\n",
              "      <td>5.000000</td>\n",
              "    </tr>\n",
              "    <tr>\n",
              "      <th>50%</th>\n",
              "      <td>7.900000</td>\n",
              "      <td>0.520000</td>\n",
              "      <td>0.260000</td>\n",
              "      <td>2.200000</td>\n",
              "      <td>0.079000</td>\n",
              "      <td>14.000000</td>\n",
              "      <td>38.000000</td>\n",
              "      <td>0.996750</td>\n",
              "      <td>3.310000</td>\n",
              "      <td>0.620000</td>\n",
              "      <td>10.200000</td>\n",
              "      <td>6.000000</td>\n",
              "    </tr>\n",
              "    <tr>\n",
              "      <th>75%</th>\n",
              "      <td>9.200000</td>\n",
              "      <td>0.640000</td>\n",
              "      <td>0.420000</td>\n",
              "      <td>2.600000</td>\n",
              "      <td>0.090000</td>\n",
              "      <td>21.000000</td>\n",
              "      <td>62.000000</td>\n",
              "      <td>0.997835</td>\n",
              "      <td>3.400000</td>\n",
              "      <td>0.730000</td>\n",
              "      <td>11.100000</td>\n",
              "      <td>6.000000</td>\n",
              "    </tr>\n",
              "    <tr>\n",
              "      <th>max</th>\n",
              "      <td>15.900000</td>\n",
              "      <td>1.580000</td>\n",
              "      <td>1.000000</td>\n",
              "      <td>15.500000</td>\n",
              "      <td>0.611000</td>\n",
              "      <td>72.000000</td>\n",
              "      <td>289.000000</td>\n",
              "      <td>1.003690</td>\n",
              "      <td>4.010000</td>\n",
              "      <td>2.000000</td>\n",
              "      <td>14.900000</td>\n",
              "      <td>8.000000</td>\n",
              "    </tr>\n",
              "  </tbody>\n",
              "</table>\n",
              "</div>"
            ],
            "text/plain": [
              "       fixed acidity  volatile acidity  ...      alcohol      quality\n",
              "count    1599.000000       1599.000000  ...  1599.000000  1599.000000\n",
              "mean        8.319637          0.527821  ...    10.422983     5.636023\n",
              "std         1.741096          0.179060  ...     1.065668     0.807569\n",
              "min         4.600000          0.120000  ...     8.400000     3.000000\n",
              "25%         7.100000          0.390000  ...     9.500000     5.000000\n",
              "50%         7.900000          0.520000  ...    10.200000     6.000000\n",
              "75%         9.200000          0.640000  ...    11.100000     6.000000\n",
              "max        15.900000          1.580000  ...    14.900000     8.000000\n",
              "\n",
              "[8 rows x 12 columns]"
            ]
          },
          "metadata": {
            "tags": []
          },
          "execution_count": 176
        }
      ]
    },
    {
      "cell_type": "code",
      "metadata": {
        "id": "olClWlFq8OoZ",
        "colab_type": "code",
        "outputId": "428cce2a-4fb6-400e-8535-1cba4a0ff27b",
        "colab": {
          "base_uri": "https://localhost:8080/",
          "height": 574
        }
      },
      "source": [
        "df.corr(method='pearson')"
      ],
      "execution_count": 177,
      "outputs": [
        {
          "output_type": "execute_result",
          "data": {
            "text/html": [
              "<div>\n",
              "<style scoped>\n",
              "    .dataframe tbody tr th:only-of-type {\n",
              "        vertical-align: middle;\n",
              "    }\n",
              "\n",
              "    .dataframe tbody tr th {\n",
              "        vertical-align: top;\n",
              "    }\n",
              "\n",
              "    .dataframe thead th {\n",
              "        text-align: right;\n",
              "    }\n",
              "</style>\n",
              "<table border=\"1\" class=\"dataframe\">\n",
              "  <thead>\n",
              "    <tr style=\"text-align: right;\">\n",
              "      <th></th>\n",
              "      <th>fixed acidity</th>\n",
              "      <th>volatile acidity</th>\n",
              "      <th>citric acid</th>\n",
              "      <th>residual sugar</th>\n",
              "      <th>chlorides</th>\n",
              "      <th>free sulfur dioxide</th>\n",
              "      <th>total sulfur dioxide</th>\n",
              "      <th>density</th>\n",
              "      <th>pH</th>\n",
              "      <th>sulphates</th>\n",
              "      <th>alcohol</th>\n",
              "      <th>quality</th>\n",
              "    </tr>\n",
              "  </thead>\n",
              "  <tbody>\n",
              "    <tr>\n",
              "      <th>fixed acidity</th>\n",
              "      <td>1.000000</td>\n",
              "      <td>-0.256131</td>\n",
              "      <td>0.671703</td>\n",
              "      <td>0.114777</td>\n",
              "      <td>0.093705</td>\n",
              "      <td>-0.153794</td>\n",
              "      <td>-0.113181</td>\n",
              "      <td>0.668047</td>\n",
              "      <td>-0.682978</td>\n",
              "      <td>0.183006</td>\n",
              "      <td>-0.061668</td>\n",
              "      <td>0.124052</td>\n",
              "    </tr>\n",
              "    <tr>\n",
              "      <th>volatile acidity</th>\n",
              "      <td>-0.256131</td>\n",
              "      <td>1.000000</td>\n",
              "      <td>-0.552496</td>\n",
              "      <td>0.001918</td>\n",
              "      <td>0.061298</td>\n",
              "      <td>-0.010504</td>\n",
              "      <td>0.076470</td>\n",
              "      <td>0.022026</td>\n",
              "      <td>0.234937</td>\n",
              "      <td>-0.260987</td>\n",
              "      <td>-0.202288</td>\n",
              "      <td>-0.390558</td>\n",
              "    </tr>\n",
              "    <tr>\n",
              "      <th>citric acid</th>\n",
              "      <td>0.671703</td>\n",
              "      <td>-0.552496</td>\n",
              "      <td>1.000000</td>\n",
              "      <td>0.143577</td>\n",
              "      <td>0.203823</td>\n",
              "      <td>-0.060978</td>\n",
              "      <td>0.035533</td>\n",
              "      <td>0.364947</td>\n",
              "      <td>-0.541904</td>\n",
              "      <td>0.312770</td>\n",
              "      <td>0.109903</td>\n",
              "      <td>0.226373</td>\n",
              "    </tr>\n",
              "    <tr>\n",
              "      <th>residual sugar</th>\n",
              "      <td>0.114777</td>\n",
              "      <td>0.001918</td>\n",
              "      <td>0.143577</td>\n",
              "      <td>1.000000</td>\n",
              "      <td>0.055610</td>\n",
              "      <td>0.187049</td>\n",
              "      <td>0.203028</td>\n",
              "      <td>0.355283</td>\n",
              "      <td>-0.085652</td>\n",
              "      <td>0.005527</td>\n",
              "      <td>0.042075</td>\n",
              "      <td>0.013732</td>\n",
              "    </tr>\n",
              "    <tr>\n",
              "      <th>chlorides</th>\n",
              "      <td>0.093705</td>\n",
              "      <td>0.061298</td>\n",
              "      <td>0.203823</td>\n",
              "      <td>0.055610</td>\n",
              "      <td>1.000000</td>\n",
              "      <td>0.005562</td>\n",
              "      <td>0.047400</td>\n",
              "      <td>0.200632</td>\n",
              "      <td>-0.265026</td>\n",
              "      <td>0.371260</td>\n",
              "      <td>-0.221141</td>\n",
              "      <td>-0.128907</td>\n",
              "    </tr>\n",
              "    <tr>\n",
              "      <th>free sulfur dioxide</th>\n",
              "      <td>-0.153794</td>\n",
              "      <td>-0.010504</td>\n",
              "      <td>-0.060978</td>\n",
              "      <td>0.187049</td>\n",
              "      <td>0.005562</td>\n",
              "      <td>1.000000</td>\n",
              "      <td>0.667666</td>\n",
              "      <td>-0.021946</td>\n",
              "      <td>0.070377</td>\n",
              "      <td>0.051658</td>\n",
              "      <td>-0.069408</td>\n",
              "      <td>-0.050656</td>\n",
              "    </tr>\n",
              "    <tr>\n",
              "      <th>total sulfur dioxide</th>\n",
              "      <td>-0.113181</td>\n",
              "      <td>0.076470</td>\n",
              "      <td>0.035533</td>\n",
              "      <td>0.203028</td>\n",
              "      <td>0.047400</td>\n",
              "      <td>0.667666</td>\n",
              "      <td>1.000000</td>\n",
              "      <td>0.071269</td>\n",
              "      <td>-0.066495</td>\n",
              "      <td>0.042947</td>\n",
              "      <td>-0.205654</td>\n",
              "      <td>-0.185100</td>\n",
              "    </tr>\n",
              "    <tr>\n",
              "      <th>density</th>\n",
              "      <td>0.668047</td>\n",
              "      <td>0.022026</td>\n",
              "      <td>0.364947</td>\n",
              "      <td>0.355283</td>\n",
              "      <td>0.200632</td>\n",
              "      <td>-0.021946</td>\n",
              "      <td>0.071269</td>\n",
              "      <td>1.000000</td>\n",
              "      <td>-0.341699</td>\n",
              "      <td>0.148506</td>\n",
              "      <td>-0.496180</td>\n",
              "      <td>-0.174919</td>\n",
              "    </tr>\n",
              "    <tr>\n",
              "      <th>pH</th>\n",
              "      <td>-0.682978</td>\n",
              "      <td>0.234937</td>\n",
              "      <td>-0.541904</td>\n",
              "      <td>-0.085652</td>\n",
              "      <td>-0.265026</td>\n",
              "      <td>0.070377</td>\n",
              "      <td>-0.066495</td>\n",
              "      <td>-0.341699</td>\n",
              "      <td>1.000000</td>\n",
              "      <td>-0.196648</td>\n",
              "      <td>0.205633</td>\n",
              "      <td>-0.057731</td>\n",
              "    </tr>\n",
              "    <tr>\n",
              "      <th>sulphates</th>\n",
              "      <td>0.183006</td>\n",
              "      <td>-0.260987</td>\n",
              "      <td>0.312770</td>\n",
              "      <td>0.005527</td>\n",
              "      <td>0.371260</td>\n",
              "      <td>0.051658</td>\n",
              "      <td>0.042947</td>\n",
              "      <td>0.148506</td>\n",
              "      <td>-0.196648</td>\n",
              "      <td>1.000000</td>\n",
              "      <td>0.093595</td>\n",
              "      <td>0.251397</td>\n",
              "    </tr>\n",
              "    <tr>\n",
              "      <th>alcohol</th>\n",
              "      <td>-0.061668</td>\n",
              "      <td>-0.202288</td>\n",
              "      <td>0.109903</td>\n",
              "      <td>0.042075</td>\n",
              "      <td>-0.221141</td>\n",
              "      <td>-0.069408</td>\n",
              "      <td>-0.205654</td>\n",
              "      <td>-0.496180</td>\n",
              "      <td>0.205633</td>\n",
              "      <td>0.093595</td>\n",
              "      <td>1.000000</td>\n",
              "      <td>0.476166</td>\n",
              "    </tr>\n",
              "    <tr>\n",
              "      <th>quality</th>\n",
              "      <td>0.124052</td>\n",
              "      <td>-0.390558</td>\n",
              "      <td>0.226373</td>\n",
              "      <td>0.013732</td>\n",
              "      <td>-0.128907</td>\n",
              "      <td>-0.050656</td>\n",
              "      <td>-0.185100</td>\n",
              "      <td>-0.174919</td>\n",
              "      <td>-0.057731</td>\n",
              "      <td>0.251397</td>\n",
              "      <td>0.476166</td>\n",
              "      <td>1.000000</td>\n",
              "    </tr>\n",
              "  </tbody>\n",
              "</table>\n",
              "</div>"
            ],
            "text/plain": [
              "                      fixed acidity  volatile acidity  ...   alcohol   quality\n",
              "fixed acidity              1.000000         -0.256131  ... -0.061668  0.124052\n",
              "volatile acidity          -0.256131          1.000000  ... -0.202288 -0.390558\n",
              "citric acid                0.671703         -0.552496  ...  0.109903  0.226373\n",
              "residual sugar             0.114777          0.001918  ...  0.042075  0.013732\n",
              "chlorides                  0.093705          0.061298  ... -0.221141 -0.128907\n",
              "free sulfur dioxide       -0.153794         -0.010504  ... -0.069408 -0.050656\n",
              "total sulfur dioxide      -0.113181          0.076470  ... -0.205654 -0.185100\n",
              "density                    0.668047          0.022026  ... -0.496180 -0.174919\n",
              "pH                        -0.682978          0.234937  ...  0.205633 -0.057731\n",
              "sulphates                  0.183006         -0.260987  ...  0.093595  0.251397\n",
              "alcohol                   -0.061668         -0.202288  ...  1.000000  0.476166\n",
              "quality                    0.124052         -0.390558  ...  0.476166  1.000000\n",
              "\n",
              "[12 rows x 12 columns]"
            ]
          },
          "metadata": {
            "tags": []
          },
          "execution_count": 177
        }
      ]
    },
    {
      "cell_type": "code",
      "metadata": {
        "id": "bCffYL1ci48i",
        "colab_type": "code",
        "colab": {
          "base_uri": "https://localhost:8080/",
          "height": 682
        },
        "outputId": "ce71db18-3d8b-486d-a55b-e10c36b73972"
      },
      "source": [
        "#CORR Matrix ploted\n",
        "import seaborn as sn\n",
        "\n",
        "plt.figure(figsize=(12,12))\n",
        "matriz_correlacao=df.corr()\n",
        "sn.heatmap(matriz_correlacao, annot=True)\n",
        "plt.show()"
      ],
      "execution_count": 178,
      "outputs": [
        {
          "output_type": "display_data",
          "data": {
            "image/png": "[encoded data removed]",
            "text/plain": [
              "<Figure size 864x864 with 2 Axes>"
            ]
          },
          "metadata": {
            "tags": [],
            "needs_background": "light"
          }
        }
      ]
    },
    {
      "cell_type": "code",
      "metadata": {
        "id": "r0NYrKzes7ie",
        "colab_type": "code",
        "outputId": "1990ffde-0653-4805-e11f-097e586d9f1d",
        "colab": {
          "base_uri": "https://localhost:8080/",
          "height": 34
        }
      },
      "source": [
        "df['residual sugar'].isnull().sum()"
      ],
      "execution_count": 179,
      "outputs": [
        {
          "output_type": "execute_result",
          "data": {
            "text/plain": [
              "0"
            ]
          },
          "metadata": {
            "tags": []
          },
          "execution_count": 179
        }
      ]
    },
    {
      "cell_type": "code",
      "metadata": {
        "id": "B8Lmz5tZtU9c",
        "colab_type": "code",
        "outputId": "08124321-91d4-490b-8c39-c3112c508bcb",
        "colab": {
          "base_uri": "https://localhost:8080/",
          "height": 34
        }
      },
      "source": [
        "df['residual sugar'].median()"
      ],
      "execution_count": 180,
      "outputs": [
        {
          "output_type": "execute_result",
          "data": {
            "text/plain": [
              "2.2"
            ]
          },
          "metadata": {
            "tags": []
          },
          "execution_count": 180
        }
      ]
    },
    {
      "cell_type": "code",
      "metadata": {
        "id": "InjerceLt49Z",
        "colab_type": "code",
        "outputId": "c8e64b4c-5d91-4306-c5a8-75bc6c3b6d1e",
        "colab": {
          "base_uri": "https://localhost:8080/",
          "height": 34
        }
      },
      "source": [
        "high_quality = df['quality'].eq(5)\n",
        "high_quality.sum()"
      ],
      "execution_count": 181,
      "outputs": [
        {
          "output_type": "execute_result",
          "data": {
            "text/plain": [
              "681"
            ]
          },
          "metadata": {
            "tags": []
          },
          "execution_count": 181
        }
      ]
    },
    {
      "cell_type": "code",
      "metadata": {
        "id": "ndNuMwyBuzTt",
        "colab_type": "code",
        "outputId": "01baa528-98dc-4a06-8814-27424f510437",
        "colab": {
          "base_uri": "https://localhost:8080/",
          "height": 134
        }
      },
      "source": [
        "df[\"quality\"].value_counts()"
      ],
      "execution_count": 182,
      "outputs": [
        {
          "output_type": "execute_result",
          "data": {
            "text/plain": [
              "5    681\n",
              "6    638\n",
              "7    199\n",
              "4     53\n",
              "8     18\n",
              "3     10\n",
              "Name: quality, dtype: int64"
            ]
          },
          "metadata": {
            "tags": []
          },
          "execution_count": 182
        }
      ]
    },
    {
      "cell_type": "code",
      "metadata": {
        "id": "XS8R_8d2oPro",
        "colab_type": "code",
        "outputId": "57c66517-5afb-4cbf-b107-c8f2a1911fad",
        "colab": {
          "base_uri": "https://localhost:8080/",
          "height": 34
        }
      },
      "source": [
        "df.shape"
      ],
      "execution_count": 183,
      "outputs": [
        {
          "output_type": "execute_result",
          "data": {
            "text/plain": [
              "(1599, 12)"
            ]
          },
          "metadata": {
            "tags": []
          },
          "execution_count": 183
        }
      ]
    },
    {
      "cell_type": "code",
      "metadata": {
        "id": "M224TOGCoSoU",
        "colab_type": "code",
        "outputId": "87a9e50c-79d4-4df1-8b90-18a37f510358",
        "colab": {
          "base_uri": "https://localhost:8080/",
          "height": 336
        }
      },
      "source": [
        "df.info()"
      ],
      "execution_count": 184,
      "outputs": [
        {
          "output_type": "stream",
          "text": [
            "<class 'pandas.core.frame.DataFrame'>\n",
            "RangeIndex: 1599 entries, 0 to 1598\n",
            "Data columns (total 12 columns):\n",
            " #   Column                Non-Null Count  Dtype  \n",
            "---  ------                --------------  -----  \n",
            " 0   fixed acidity         1599 non-null   float64\n",
            " 1   volatile acidity      1599 non-null   float64\n",
            " 2   citric acid           1599 non-null   float64\n",
            " 3   residual sugar        1599 non-null   float64\n",
            " 4   chlorides             1599 non-null   float64\n",
            " 5   free sulfur dioxide   1599 non-null   float64\n",
            " 6   total sulfur dioxide  1599 non-null   float64\n",
            " 7   density               1599 non-null   float64\n",
            " 8   pH                    1599 non-null   float64\n",
            " 9   sulphates             1599 non-null   float64\n",
            " 10  alcohol               1599 non-null   float64\n",
            " 11  quality               1599 non-null   int64  \n",
            "dtypes: float64(11), int64(1)\n",
            "memory usage: 150.0 KB\n"
          ],
          "name": "stdout"
        }
      ]
    },
    {
      "cell_type": "code",
      "metadata": {
        "id": "RI5sSV6YonI7",
        "colab_type": "code",
        "colab": {}
      },
      "source": [
        "#setting up features and labels\n",
        "x = df.iloc[:, :-1].values #input data\n",
        "y = df.iloc[:, -1].values #output data"
      ],
      "execution_count": 0,
      "outputs": []
    },
    {
      "cell_type": "code",
      "metadata": {
        "id": "irMiWC8XqIEu",
        "colab_type": "code",
        "colab": {}
      },
      "source": [
        "#applying data normalization\n",
        "from sklearn.preprocessing import MinMaxScaler\n",
        "scaler = MinMaxScaler() \n",
        "scaler.fit(x)\n",
        "\n",
        "x = scaler.transform(x)"
      ],
      "execution_count": 0,
      "outputs": []
    },
    {
      "cell_type": "code",
      "metadata": {
        "id": "wLic-S-ZvTqa",
        "colab_type": "code",
        "outputId": "9d216c31-a574-4a52-e1d2-265c9bf60e60",
        "colab": {
          "base_uri": "https://localhost:8080/",
          "height": 34
        }
      },
      "source": [
        "fixed_acidity_normalized = x[:,0]\n",
        "min(fixed_acidity_normalized)"
      ],
      "execution_count": 187,
      "outputs": [
        {
          "output_type": "execute_result",
          "data": {
            "text/plain": [
              "0.0"
            ]
          },
          "metadata": {
            "tags": []
          },
          "execution_count": 187
        }
      ]
    },
    {
      "cell_type": "code",
      "metadata": {
        "id": "fCAGzqPEpgW8",
        "colab_type": "code",
        "colab": {}
      },
      "source": [
        "#split train - test dataset\n",
        "from sklearn.model_selection import train_test_split \n",
        "#splitting and setting 30% data for testing\n",
        "X_train, X_test, y_train, y_test = train_test_split(x,y, random_state=1,test_size=0.30) "
      ],
      "execution_count": 0,
      "outputs": []
    },
    {
      "cell_type": "markdown",
      "metadata": {
        "id": "EDyhfj0AqsJQ",
        "colab_type": "text"
      },
      "source": [
        "Model 1 - KNN"
      ]
    },
    {
      "cell_type": "code",
      "metadata": {
        "id": "sc5yCkRVreCp",
        "colab_type": "code",
        "outputId": "01cd3906-2180-46b2-e7e3-f3c5c1bf3b06",
        "colab": {
          "base_uri": "https://localhost:8080/",
          "height": 67
        }
      },
      "source": [
        "#trainning the model\n",
        "from sklearn.neighbors import KNeighborsClassifier\n",
        "clf_KNN = KNeighborsClassifier(n_neighbors=5) #setting 5 near neighbors\n",
        "clf_KNN.fit(X_train, y_train) #applying classification"
      ],
      "execution_count": 189,
      "outputs": [
        {
          "output_type": "execute_result",
          "data": {
            "text/plain": [
              "KNeighborsClassifier(algorithm='auto', leaf_size=30, metric='minkowski',\n",
              "                     metric_params=None, n_jobs=None, n_neighbors=5, p=2,\n",
              "                     weights='uniform')"
            ]
          },
          "metadata": {
            "tags": []
          },
          "execution_count": 189
        }
      ]
    },
    {
      "cell_type": "code",
      "metadata": {
        "id": "3cANyOwpqrke",
        "colab_type": "code",
        "colab": {}
      },
      "source": [
        "#doing some prediction\n",
        "y_pred_KNN = clf_KNN.predict(X_test)"
      ],
      "execution_count": 0,
      "outputs": []
    },
    {
      "cell_type": "code",
      "metadata": {
        "id": "zUx_MrcnrqeZ",
        "colab_type": "code",
        "outputId": "58bab4b1-4a48-4881-83b6-8bd4ae9f35ca",
        "colab": {
          "base_uri": "https://localhost:8080/",
          "height": 390
        }
      },
      "source": [
        "#building confusion matrix \n",
        "from sklearn.metrics import classification_report, confusion_matrix\n",
        "print(confusion_matrix(y_test, y_pred_KNN))\n",
        "print(classification_report(y_test, y_pred_KNN))"
      ],
      "execution_count": 191,
      "outputs": [
        {
          "output_type": "stream",
          "text": [
            "[[  1   0   1   0   0   0]\n",
            " [  0   1  14   5   1   0]\n",
            " [  0   0 148  54   5   0]\n",
            " [  0   1  71 102  21   0]\n",
            " [  0   1   9  23  19   0]\n",
            " [  0   0   0   1   2   0]]\n",
            "              precision    recall  f1-score   support\n",
            "\n",
            "           3       1.00      0.50      0.67         2\n",
            "           4       0.33      0.05      0.08        21\n",
            "           5       0.61      0.71      0.66       207\n",
            "           6       0.55      0.52      0.54       195\n",
            "           7       0.40      0.37      0.38        52\n",
            "           8       0.00      0.00      0.00         3\n",
            "\n",
            "    accuracy                           0.56       480\n",
            "   macro avg       0.48      0.36      0.39       480\n",
            "weighted avg       0.55      0.56      0.55       480\n",
            "\n"
          ],
          "name": "stdout"
        },
        {
          "output_type": "stream",
          "text": [
            "/usr/local/lib/python3.6/dist-packages/sklearn/metrics/_classification.py:1272: UndefinedMetricWarning: Precision and F-score are ill-defined and being set to 0.0 in labels with no predicted samples. Use `zero_division` parameter to control this behavior.\n",
            "  _warn_prf(average, modifier, msg_start, len(result))\n"
          ],
          "name": "stderr"
        }
      ]
    },
    {
      "cell_type": "code",
      "metadata": {
        "id": "Re4v7l_Er4wT",
        "colab_type": "code",
        "outputId": "04f2ffc3-f9d8-41c6-ea82-cea12df4978b",
        "colab": {
          "base_uri": "https://localhost:8080/",
          "height": 279
        }
      },
      "source": [
        "#lets plot confusion matrix\n",
        "matrix = confusion_matrix(y_test, y_pred_KNN)\n",
        "from mlxtend.plotting import plot_confusion_matrix\n",
        "fig, ax = plot_confusion_matrix(conf_mat=matrix)\n",
        "pl.savefig('knnConfusionMatrix.png')\n",
        "pl.show()"
      ],
      "execution_count": 192,
      "outputs": [
        {
          "output_type": "display_data",
          "data": {
            "image/png": "[encoded data removed]",
            "text/plain": [
              "<Figure size 432x288 with 1 Axes>"
            ]
          },
          "metadata": {
            "tags": [],
            "needs_background": "light"
          }
        }
      ]
    },
    {
      "cell_type": "markdown",
      "metadata": {
        "id": "rzbdPETWqxsS",
        "colab_type": "text"
      },
      "source": [
        "Model 2 - Decision Tree"
      ]
    },
    {
      "cell_type": "code",
      "metadata": {
        "id": "fm7_A6nBrDkZ",
        "colab_type": "code",
        "outputId": "64f58d8b-0b48-447f-e914-ac290dbb124d",
        "colab": {
          "base_uri": "https://localhost:8080/",
          "height": 118
        }
      },
      "source": [
        "\n",
        "#trainning the model\n",
        "from sklearn.tree import DecisionTreeClassifier\n",
        "clf_Dtree = DecisionTreeClassifier() \n",
        "clf_Dtree.fit(X_train, y_train) #applying classification"
      ],
      "execution_count": 193,
      "outputs": [
        {
          "output_type": "execute_result",
          "data": {
            "text/plain": [
              "DecisionTreeClassifier(ccp_alpha=0.0, class_weight=None, criterion='gini',\n",
              "                       max_depth=None, max_features=None, max_leaf_nodes=None,\n",
              "                       min_impurity_decrease=0.0, min_impurity_split=None,\n",
              "                       min_samples_leaf=1, min_samples_split=2,\n",
              "                       min_weight_fraction_leaf=0.0, presort='deprecated',\n",
              "                       random_state=None, splitter='best')"
            ]
          },
          "metadata": {
            "tags": []
          },
          "execution_count": 193
        }
      ]
    },
    {
      "cell_type": "code",
      "metadata": {
        "id": "iiCHgjyCyuBH",
        "colab_type": "code",
        "outputId": "5963e533-766b-4c0b-faa2-c2dfbe91f49e",
        "colab": {
          "base_uri": "https://localhost:8080/",
          "height": 336
        }
      },
      "source": [
        "#doing some prediction\n",
        "y_pred_DT = clf_Dtree.predict(X_test)\n",
        "#building confusion matrix \n",
        "print(confusion_matrix(y_test, y_pred_DT))\n",
        "print(classification_report(y_test, y_pred_DT))"
      ],
      "execution_count": 194,
      "outputs": [
        {
          "output_type": "stream",
          "text": [
            "[[  0   0   0   2   0   0]\n",
            " [  2   2  10   5   2   0]\n",
            " [  1  11 142  43  10   0]\n",
            " [  1   5  62 107  20   0]\n",
            " [  0   0   4  14  32   2]\n",
            " [  0   0   0   0   2   1]]\n",
            "              precision    recall  f1-score   support\n",
            "\n",
            "           3       0.00      0.00      0.00         2\n",
            "           4       0.11      0.10      0.10        21\n",
            "           5       0.65      0.69      0.67       207\n",
            "           6       0.63      0.55      0.58       195\n",
            "           7       0.48      0.62      0.54        52\n",
            "           8       0.33      0.33      0.33         3\n",
            "\n",
            "    accuracy                           0.59       480\n",
            "   macro avg       0.37      0.38      0.37       480\n",
            "weighted avg       0.59      0.59      0.59       480\n",
            "\n"
          ],
          "name": "stdout"
        }
      ]
    },
    {
      "cell_type": "code",
      "metadata": {
        "id": "Bup5Jt_Ly7Zl",
        "colab_type": "code",
        "outputId": "cf2cf1e8-8bcb-4031-e16d-29c860ae189d",
        "colab": {
          "base_uri": "https://localhost:8080/",
          "height": 279
        }
      },
      "source": [
        "#lets plot confusion matrix\n",
        "matrix = confusion_matrix(y_test, y_pred_DT)\n",
        "fig, ax = plot_confusion_matrix(conf_mat=matrix)\n",
        "pl.savefig('DTConfusionMatrix.png')\n",
        "pl.show()"
      ],
      "execution_count": 195,
      "outputs": [
        {
          "output_type": "display_data",
          "data": {
            "image/png": "[encoded data removed]",
            "text/plain": [
              "<Figure size 432x288 with 1 Axes>"
            ]
          },
          "metadata": {
            "tags": [],
            "needs_background": "light"
          }
        }
      ]
    },
    {
      "cell_type": "markdown",
      "metadata": {
        "id": "5suKlRgeq3bO",
        "colab_type": "text"
      },
      "source": [
        "Model 3 - Random Forest"
      ]
    },
    {
      "cell_type": "code",
      "metadata": {
        "id": "fpsgqU8IrEeO",
        "colab_type": "code",
        "outputId": "68d9dda3-f4e9-4fdf-d9f8-5b96993ec2da",
        "colab": {
          "base_uri": "https://localhost:8080/",
          "height": 151
        }
      },
      "source": [
        "from sklearn.ensemble import RandomForestClassifier\n",
        "clf_forest = RandomForestClassifier(max_depth=10, random_state=1)\n",
        "clf_forest.fit(X_train, y_train)"
      ],
      "execution_count": 196,
      "outputs": [
        {
          "output_type": "execute_result",
          "data": {
            "text/plain": [
              "RandomForestClassifier(bootstrap=True, ccp_alpha=0.0, class_weight=None,\n",
              "                       criterion='gini', max_depth=10, max_features='auto',\n",
              "                       max_leaf_nodes=None, max_samples=None,\n",
              "                       min_impurity_decrease=0.0, min_impurity_split=None,\n",
              "                       min_samples_leaf=1, min_samples_split=2,\n",
              "                       min_weight_fraction_leaf=0.0, n_estimators=100,\n",
              "                       n_jobs=None, oob_score=False, random_state=1, verbose=0,\n",
              "                       warm_start=False)"
            ]
          },
          "metadata": {
            "tags": []
          },
          "execution_count": 196
        }
      ]
    },
    {
      "cell_type": "code",
      "metadata": {
        "id": "WjXSXeh1zS0W",
        "colab_type": "code",
        "outputId": "8b8ca8ae-d19d-4441-c152-36e7518db7e1",
        "colab": {
          "base_uri": "https://localhost:8080/",
          "height": 390
        }
      },
      "source": [
        "#doing some prediction\n",
        "y_predForest = clf_forest.predict(X_test)\n",
        "#building confusion matrix \n",
        "print(confusion_matrix(y_test, y_predForest))\n",
        "print(classification_report(y_test, y_predForest))"
      ],
      "execution_count": 197,
      "outputs": [
        {
          "output_type": "stream",
          "text": [
            "[[  0   0   2   0   0   0]\n",
            " [  0   0  14   7   0   0]\n",
            " [  0   0 167  38   2   0]\n",
            " [  0   0  46 136  13   0]\n",
            " [  0   0   5  24  23   0]\n",
            " [  0   0   0   1   2   0]]\n",
            "              precision    recall  f1-score   support\n",
            "\n",
            "           3       0.00      0.00      0.00         2\n",
            "           4       0.00      0.00      0.00        21\n",
            "           5       0.71      0.81      0.76       207\n",
            "           6       0.66      0.70      0.68       195\n",
            "           7       0.57      0.44      0.50        52\n",
            "           8       0.00      0.00      0.00         3\n",
            "\n",
            "    accuracy                           0.68       480\n",
            "   macro avg       0.32      0.32      0.32       480\n",
            "weighted avg       0.64      0.68      0.66       480\n",
            "\n"
          ],
          "name": "stdout"
        },
        {
          "output_type": "stream",
          "text": [
            "/usr/local/lib/python3.6/dist-packages/sklearn/metrics/_classification.py:1272: UndefinedMetricWarning: Precision and F-score are ill-defined and being set to 0.0 in labels with no predicted samples. Use `zero_division` parameter to control this behavior.\n",
            "  _warn_prf(average, modifier, msg_start, len(result))\n"
          ],
          "name": "stderr"
        }
      ]
    },
    {
      "cell_type": "code",
      "metadata": {
        "id": "_7DE6quNzSQu",
        "colab_type": "code",
        "outputId": "a9f9d6a2-f4c7-4351-a7f9-dd40517ed093",
        "colab": {
          "base_uri": "https://localhost:8080/",
          "height": 279
        }
      },
      "source": [
        "#lets plot confusion matrix\n",
        "matrix = confusion_matrix(y_test, y_predForest)\n",
        "fig, ax = plot_confusion_matrix(conf_mat=matrix)\n",
        "pl.savefig('RanForestConfusionMatrix.png')\n",
        "pl.show()"
      ],
      "execution_count": 198,
      "outputs": [
        {
          "output_type": "display_data",
          "data": {
            "image/png": "[encoded data removed]",
            "text/plain": [
              "<Figure size 432x288 with 1 Axes>"
            ]
          },
          "metadata": {
            "tags": [],
            "needs_background": "light"
          }
        }
      ]
    },
    {
      "cell_type": "markdown",
      "metadata": {
        "id": "B0x8tbd2q6DP",
        "colab_type": "text"
      },
      "source": [
        "Model 4 - SVM"
      ]
    },
    {
      "cell_type": "code",
      "metadata": {
        "id": "KBndmRD3rFCD",
        "colab_type": "code",
        "outputId": "23353bb7-1ea9-449b-d6c0-17183a4b3101",
        "colab": {
          "base_uri": "https://localhost:8080/",
          "height": 84
        }
      },
      "source": [
        "from sklearn.svm import SVC\n",
        "clf_svm=SVC(gamma='auto',kernel='rbf')\n",
        "clf_svm.fit(X_train, y_train)"
      ],
      "execution_count": 199,
      "outputs": [
        {
          "output_type": "execute_result",
          "data": {
            "text/plain": [
              "SVC(C=1.0, break_ties=False, cache_size=200, class_weight=None, coef0=0.0,\n",
              "    decision_function_shape='ovr', degree=3, gamma='auto', kernel='rbf',\n",
              "    max_iter=-1, probability=False, random_state=None, shrinking=True,\n",
              "    tol=0.001, verbose=False)"
            ]
          },
          "metadata": {
            "tags": []
          },
          "execution_count": 199
        }
      ]
    },
    {
      "cell_type": "code",
      "metadata": {
        "id": "Kq0JgFnrzTmn",
        "colab_type": "code",
        "outputId": "2b38f4d6-b2c0-4b21-e257-4089c0083c7f",
        "colab": {
          "base_uri": "https://localhost:8080/",
          "height": 390
        }
      },
      "source": [
        "#doing some prediction\n",
        "y_pred_SVM = clf_svm.predict(X_test)\n",
        "#building confusion matrix \n",
        "print(confusion_matrix(y_test, y_pred_SVM))\n",
        "print(classification_report(y_test, y_pred_SVM))"
      ],
      "execution_count": 200,
      "outputs": [
        {
          "output_type": "stream",
          "text": [
            "[[  0   0   2   0   0   0]\n",
            " [  0   0  16   5   0   0]\n",
            " [  0   0 177  30   0   0]\n",
            " [  0   0  91 104   0   0]\n",
            " [  0   0   6  46   0   0]\n",
            " [  0   0   0   3   0   0]]\n",
            "              precision    recall  f1-score   support\n",
            "\n",
            "           3       0.00      0.00      0.00         2\n",
            "           4       0.00      0.00      0.00        21\n",
            "           5       0.61      0.86      0.71       207\n",
            "           6       0.55      0.53      0.54       195\n",
            "           7       0.00      0.00      0.00        52\n",
            "           8       0.00      0.00      0.00         3\n",
            "\n",
            "    accuracy                           0.59       480\n",
            "   macro avg       0.19      0.23      0.21       480\n",
            "weighted avg       0.49      0.59      0.53       480\n",
            "\n"
          ],
          "name": "stdout"
        },
        {
          "output_type": "stream",
          "text": [
            "/usr/local/lib/python3.6/dist-packages/sklearn/metrics/_classification.py:1272: UndefinedMetricWarning: Precision and F-score are ill-defined and being set to 0.0 in labels with no predicted samples. Use `zero_division` parameter to control this behavior.\n",
            "  _warn_prf(average, modifier, msg_start, len(result))\n"
          ],
          "name": "stderr"
        }
      ]
    },
    {
      "cell_type": "code",
      "metadata": {
        "id": "Rr-aRLBPzTbG",
        "colab_type": "code",
        "outputId": "68076be1-47ea-499e-e87d-24e581cfb3ba",
        "colab": {
          "base_uri": "https://localhost:8080/",
          "height": 279
        }
      },
      "source": [
        "#lets plot confusion matrix\n",
        "matrix = confusion_matrix(y_test, y_pred_SVM)\n",
        "fig, ax = plot_confusion_matrix(conf_mat=matrix)\n",
        "pl.savefig('SVMConfusionMatrix.png')\n",
        "pl.show()"
      ],
      "execution_count": 201,
      "outputs": [
        {
          "output_type": "display_data",
          "data": {
            "image/png": "[encoded data removed]",
            "text/plain": [
              "<Figure size 432x288 with 1 Axes>"
            ]
          },
          "metadata": {
            "tags": [],
            "needs_background": "light"
          }
        }
      ]
    },
    {
      "cell_type": "markdown",
      "metadata": {
        "id": "Rx4NBlPvq80q",
        "colab_type": "text"
      },
      "source": [
        "Model 5 - Neural Network - MLP"
      ]
    },
    {
      "cell_type": "code",
      "metadata": {
        "id": "TOlfJWfoqXNe",
        "colab_type": "code",
        "outputId": "70fbe9f8-c764-4994-e632-0bc4b87fbf08",
        "colab": {
          "base_uri": "https://localhost:8080/",
          "height": 205
        }
      },
      "source": [
        "from sklearn.neural_network import MLPClassifier\n",
        "clf_mlp = MLPClassifier( alpha=1e-5, hidden_layer_sizes=(5, 5), random_state=1)\n",
        "clf_mlp.fit(X_train, y_train)"
      ],
      "execution_count": 202,
      "outputs": [
        {
          "output_type": "stream",
          "text": [
            "/usr/local/lib/python3.6/dist-packages/sklearn/neural_network/_multilayer_perceptron.py:571: ConvergenceWarning: Stochastic Optimizer: Maximum iterations (200) reached and the optimization hasn't converged yet.\n",
            "  % self.max_iter, ConvergenceWarning)\n"
          ],
          "name": "stderr"
        },
        {
          "output_type": "execute_result",
          "data": {
            "text/plain": [
              "MLPClassifier(activation='relu', alpha=1e-05, batch_size='auto', beta_1=0.9,\n",
              "              beta_2=0.999, early_stopping=False, epsilon=1e-08,\n",
              "              hidden_layer_sizes=(5, 5), learning_rate='constant',\n",
              "              learning_rate_init=0.001, max_fun=15000, max_iter=200,\n",
              "              momentum=0.9, n_iter_no_change=10, nesterovs_momentum=True,\n",
              "              power_t=0.5, random_state=1, shuffle=True, solver='adam',\n",
              "              tol=0.0001, validation_fraction=0.1, verbose=False,\n",
              "              warm_start=False)"
            ]
          },
          "metadata": {
            "tags": []
          },
          "execution_count": 202
        }
      ]
    },
    {
      "cell_type": "code",
      "metadata": {
        "id": "bPvABy5qzUUX",
        "colab_type": "code",
        "outputId": "03269e91-5c9f-4cef-dc8e-b812a4838f3c",
        "colab": {
          "base_uri": "https://localhost:8080/",
          "height": 390
        }
      },
      "source": [
        "#doing some prediction\n",
        "y_pred_MLP = clf_mlp.predict(X_test)\n",
        "#building confusion matrix \n",
        "print(confusion_matrix(y_test, y_pred_MLP))\n",
        "print(classification_report(y_test, y_pred_MLP))"
      ],
      "execution_count": 203,
      "outputs": [
        {
          "output_type": "stream",
          "text": [
            "[[  0   0   2   0   0   0]\n",
            " [  0   0  15   5   1   0]\n",
            " [  0   0 165  42   0   0]\n",
            " [  0   0  73 111  11   0]\n",
            " [  0   0   5  35  12   0]\n",
            " [  0   0   0   1   2   0]]\n",
            "              precision    recall  f1-score   support\n",
            "\n",
            "           3       0.00      0.00      0.00         2\n",
            "           4       0.00      0.00      0.00        21\n",
            "           5       0.63      0.80      0.71       207\n",
            "           6       0.57      0.57      0.57       195\n",
            "           7       0.46      0.23      0.31        52\n",
            "           8       0.00      0.00      0.00         3\n",
            "\n",
            "    accuracy                           0.60       480\n",
            "   macro avg       0.28      0.27      0.26       480\n",
            "weighted avg       0.56      0.60      0.57       480\n",
            "\n"
          ],
          "name": "stdout"
        },
        {
          "output_type": "stream",
          "text": [
            "/usr/local/lib/python3.6/dist-packages/sklearn/metrics/_classification.py:1272: UndefinedMetricWarning: Precision and F-score are ill-defined and being set to 0.0 in labels with no predicted samples. Use `zero_division` parameter to control this behavior.\n",
            "  _warn_prf(average, modifier, msg_start, len(result))\n"
          ],
          "name": "stderr"
        }
      ]
    },
    {
      "cell_type": "code",
      "metadata": {
        "id": "5XzKXzk0zUFs",
        "colab_type": "code",
        "outputId": "56a4aa27-74dc-4fa4-a1d0-814796333e9e",
        "colab": {
          "base_uri": "https://localhost:8080/",
          "height": 279
        }
      },
      "source": [
        "#lets plot confusion matrix\n",
        "matrix = confusion_matrix(y_test, y_pred_MLP)\n",
        "fig, ax = plot_confusion_matrix(conf_mat=matrix)\n",
        "pl.savefig('NeuralNetConfusionMatrix.png')\n",
        "pl.show()"
      ],
      "execution_count": 204,
      "outputs": [
        {
          "output_type": "display_data",
          "data": {
            "image/png": "[encoded data removed]",
            "text/plain": [
              "<Figure size 432x288 with 1 Axes>"
            ]
          },
          "metadata": {
            "tags": [],
            "needs_background": "light"
          }
        }
      ]
    },
    {
      "cell_type": "markdown",
      "metadata": {
        "id": "gnAzTYWA4jOC",
        "colab_type": "text"
      },
      "source": [
        "# **New Strategy - Lets simplify quality grades as GOOD or BAD, instead of numeric grades. **\n",
        "\n",
        "BAD WINE ( Grade 3,4,5 )      GOOD WINE ( Grade 6,7,8)"
      ]
    },
    {
      "cell_type": "markdown",
      "metadata": {
        "id": "5CweXqt36fsa",
        "colab_type": "text"
      },
      "source": [
        "Model 6 - Random Forest (New Label GOOD OR BAD)"
      ]
    },
    {
      "cell_type": "code",
      "metadata": {
        "id": "UOUD-osif6w-",
        "colab_type": "code",
        "colab": {}
      },
      "source": [
        "#transforming dataset GOOD = ZERO AND BAD = 1\n",
        "#other way\n",
        "##transforming Quality grades from Numeric to Category\n",
        "#df_good_bad[['quality']] = df_good_bad[['quality']].replace([3,4,5], 'Bad')\n",
        "#df_good_bad[['quality']] = df_good_bad[['quality']].replace([6,7,8], 'Good')\n",
        "\n",
        "df_good_bad=df.copy()\n",
        "df_good_bad['nova_qualidade']=df_good_bad['quality'].apply(lambda x: 0 if x<=5 else 1)"
      ],
      "execution_count": 0,
      "outputs": []
    },
    {
      "cell_type": "code",
      "metadata": {
        "id": "jpHifsJyicDT",
        "colab_type": "code",
        "colab": {}
      },
      "source": [
        "#drop quality column\n",
        "df_good_bad.drop(labels=['quality'],axis=1,inplace=True)"
      ],
      "execution_count": 0,
      "outputs": []
    },
    {
      "cell_type": "code",
      "metadata": {
        "id": "JTVhkEWL5Xym",
        "colab_type": "code",
        "outputId": "db18c718-6cf3-4d82-f16b-59eb4ec4f975",
        "colab": {
          "base_uri": "https://localhost:8080/",
          "height": 249
        }
      },
      "source": [
        "df_good_bad.head()"
      ],
      "execution_count": 207,
      "outputs": [
        {
          "output_type": "execute_result",
          "data": {
            "text/html": [
              "<div>\n",
              "<style scoped>\n",
              "    .dataframe tbody tr th:only-of-type {\n",
              "        vertical-align: middle;\n",
              "    }\n",
              "\n",
              "    .dataframe tbody tr th {\n",
              "        vertical-align: top;\n",
              "    }\n",
              "\n",
              "    .dataframe thead th {\n",
              "        text-align: right;\n",
              "    }\n",
              "</style>\n",
              "<table border=\"1\" class=\"dataframe\">\n",
              "  <thead>\n",
              "    <tr style=\"text-align: right;\">\n",
              "      <th></th>\n",
              "      <th>fixed acidity</th>\n",
              "      <th>volatile acidity</th>\n",
              "      <th>citric acid</th>\n",
              "      <th>residual sugar</th>\n",
              "      <th>chlorides</th>\n",
              "      <th>free sulfur dioxide</th>\n",
              "      <th>total sulfur dioxide</th>\n",
              "      <th>density</th>\n",
              "      <th>pH</th>\n",
              "      <th>sulphates</th>\n",
              "      <th>alcohol</th>\n",
              "      <th>nova_qualidade</th>\n",
              "    </tr>\n",
              "  </thead>\n",
              "  <tbody>\n",
              "    <tr>\n",
              "      <th>0</th>\n",
              "      <td>7.4</td>\n",
              "      <td>0.70</td>\n",
              "      <td>0.00</td>\n",
              "      <td>1.9</td>\n",
              "      <td>0.076</td>\n",
              "      <td>11.0</td>\n",
              "      <td>34.0</td>\n",
              "      <td>0.9978</td>\n",
              "      <td>3.51</td>\n",
              "      <td>0.56</td>\n",
              "      <td>9.4</td>\n",
              "      <td>0</td>\n",
              "    </tr>\n",
              "    <tr>\n",
              "      <th>1</th>\n",
              "      <td>7.8</td>\n",
              "      <td>0.88</td>\n",
              "      <td>0.00</td>\n",
              "      <td>2.6</td>\n",
              "      <td>0.098</td>\n",
              "      <td>25.0</td>\n",
              "      <td>67.0</td>\n",
              "      <td>0.9968</td>\n",
              "      <td>3.20</td>\n",
              "      <td>0.68</td>\n",
              "      <td>9.8</td>\n",
              "      <td>0</td>\n",
              "    </tr>\n",
              "    <tr>\n",
              "      <th>2</th>\n",
              "      <td>7.8</td>\n",
              "      <td>0.76</td>\n",
              "      <td>0.04</td>\n",
              "      <td>2.3</td>\n",
              "      <td>0.092</td>\n",
              "      <td>15.0</td>\n",
              "      <td>54.0</td>\n",
              "      <td>0.9970</td>\n",
              "      <td>3.26</td>\n",
              "      <td>0.65</td>\n",
              "      <td>9.8</td>\n",
              "      <td>0</td>\n",
              "    </tr>\n",
              "    <tr>\n",
              "      <th>3</th>\n",
              "      <td>11.2</td>\n",
              "      <td>0.28</td>\n",
              "      <td>0.56</td>\n",
              "      <td>1.9</td>\n",
              "      <td>0.075</td>\n",
              "      <td>17.0</td>\n",
              "      <td>60.0</td>\n",
              "      <td>0.9980</td>\n",
              "      <td>3.16</td>\n",
              "      <td>0.58</td>\n",
              "      <td>9.8</td>\n",
              "      <td>1</td>\n",
              "    </tr>\n",
              "    <tr>\n",
              "      <th>4</th>\n",
              "      <td>7.4</td>\n",
              "      <td>0.70</td>\n",
              "      <td>0.00</td>\n",
              "      <td>1.9</td>\n",
              "      <td>0.076</td>\n",
              "      <td>11.0</td>\n",
              "      <td>34.0</td>\n",
              "      <td>0.9978</td>\n",
              "      <td>3.51</td>\n",
              "      <td>0.56</td>\n",
              "      <td>9.4</td>\n",
              "      <td>0</td>\n",
              "    </tr>\n",
              "  </tbody>\n",
              "</table>\n",
              "</div>"
            ],
            "text/plain": [
              "   fixed acidity  volatile acidity  ...  alcohol  nova_qualidade\n",
              "0            7.4              0.70  ...      9.4               0\n",
              "1            7.8              0.88  ...      9.8               0\n",
              "2            7.8              0.76  ...      9.8               0\n",
              "3           11.2              0.28  ...      9.8               1\n",
              "4            7.4              0.70  ...      9.4               0\n",
              "\n",
              "[5 rows x 12 columns]"
            ]
          },
          "metadata": {
            "tags": []
          },
          "execution_count": 207
        }
      ]
    },
    {
      "cell_type": "code",
      "metadata": {
        "id": "s2ilKRCI5aAZ",
        "colab_type": "code",
        "outputId": "b294bb9b-261d-4efe-a119-3fb99956c6ed",
        "colab": {
          "base_uri": "https://localhost:8080/",
          "height": 34
        }
      },
      "source": [
        "df_good_bad.shape"
      ],
      "execution_count": 208,
      "outputs": [
        {
          "output_type": "execute_result",
          "data": {
            "text/plain": [
              "(1599, 12)"
            ]
          },
          "metadata": {
            "tags": []
          },
          "execution_count": 208
        }
      ]
    },
    {
      "cell_type": "code",
      "metadata": {
        "id": "B2cf05rF5D4K",
        "colab_type": "code",
        "colab": {}
      },
      "source": [
        "#setting up features and labels\n",
        "x = df_good_bad.iloc[:, :-1].values #input data\n",
        "y = df_good_bad.iloc[:, -1].values #output data"
      ],
      "execution_count": 0,
      "outputs": []
    },
    {
      "cell_type": "code",
      "metadata": {
        "id": "4HAOlSTHe570",
        "colab_type": "code",
        "colab": {}
      },
      "source": [
        "#applying minmax\n",
        "#applying data normalization\n",
        "from sklearn.preprocessing import MinMaxScaler\n",
        "scaler = MinMaxScaler() \n",
        "scaler.fit(x)\n",
        "\n",
        "x = scaler.transform(x)\n"
      ],
      "execution_count": 0,
      "outputs": []
    },
    {
      "cell_type": "code",
      "metadata": {
        "id": "OGyBPgPJfll7",
        "colab_type": "code",
        "colab": {}
      },
      "source": [
        "#split train - test dataset\n",
        "from sklearn.model_selection import train_test_split \n",
        "#splitting and setting 30% data for testing\n",
        "X_train, X_test, y_train, y_test = train_test_split(x,y, random_state=1,test_size=0.30) "
      ],
      "execution_count": 0,
      "outputs": []
    },
    {
      "cell_type": "code",
      "metadata": {
        "id": "3QhI2LAv6FYd",
        "colab_type": "code",
        "outputId": "09f9214c-dcf0-43ea-bd8c-c27cf33e85af",
        "colab": {
          "base_uri": "https://localhost:8080/",
          "height": 151
        }
      },
      "source": [
        "#Now Lets Apply Random Forest Model AGAIN!\n",
        "from sklearn.ensemble import RandomForestClassifier\n",
        "clf_forest = RandomForestClassifier(max_depth=10, random_state=1)\n",
        "clf_forest.fit(X_train, y_train)"
      ],
      "execution_count": 212,
      "outputs": [
        {
          "output_type": "execute_result",
          "data": {
            "text/plain": [
              "RandomForestClassifier(bootstrap=True, ccp_alpha=0.0, class_weight=None,\n",
              "                       criterion='gini', max_depth=10, max_features='auto',\n",
              "                       max_leaf_nodes=None, max_samples=None,\n",
              "                       min_impurity_decrease=0.0, min_impurity_split=None,\n",
              "                       min_samples_leaf=1, min_samples_split=2,\n",
              "                       min_weight_fraction_leaf=0.0, n_estimators=100,\n",
              "                       n_jobs=None, oob_score=False, random_state=1, verbose=0,\n",
              "                       warm_start=False)"
            ]
          },
          "metadata": {
            "tags": []
          },
          "execution_count": 212
        }
      ]
    },
    {
      "cell_type": "code",
      "metadata": {
        "id": "KE-bPdqC6mNG",
        "colab_type": "code",
        "outputId": "9f6d9c26-381d-462f-ef87-a7d3e6cf55fb",
        "colab": {
          "base_uri": "https://localhost:8080/",
          "height": 202
        }
      },
      "source": [
        "#doing some prediction\n",
        "y_predForest = clf_forest.predict(X_test)\n",
        "#building confusion matrix \n",
        "print(confusion_matrix(y_test, y_predForest))\n",
        "print(classification_report(y_test, y_predForest))"
      ],
      "execution_count": 213,
      "outputs": [
        {
          "output_type": "stream",
          "text": [
            "[[186  44]\n",
            " [ 50 200]]\n",
            "              precision    recall  f1-score   support\n",
            "\n",
            "           0       0.79      0.81      0.80       230\n",
            "           1       0.82      0.80      0.81       250\n",
            "\n",
            "    accuracy                           0.80       480\n",
            "   macro avg       0.80      0.80      0.80       480\n",
            "weighted avg       0.80      0.80      0.80       480\n",
            "\n"
          ],
          "name": "stdout"
        }
      ]
    },
    {
      "cell_type": "code",
      "metadata": {
        "id": "NkJHTMSB6sGG",
        "colab_type": "code",
        "outputId": "1b807d7b-6fd9-4836-ced1-9ec778987615",
        "colab": {
          "base_uri": "https://localhost:8080/",
          "height": 279
        }
      },
      "source": [
        "#lets plot confusion matrix\n",
        "matrix = confusion_matrix(y_test, y_predForest)\n",
        "fig, ax = plot_confusion_matrix(conf_mat=matrix)\n",
        "pl.savefig('RanForestConfusionMatrix_Label_GorB.png')\n",
        "pl.show()"
      ],
      "execution_count": 214,
      "outputs": [
        {
          "output_type": "display_data",
          "data": {
            "image/png": "[encoded data removed]",
            "text/plain": [
              "<Figure size 432x288 with 1 Axes>"
            ]
          },
          "metadata": {
            "tags": [],
            "needs_background": "light"
          }
        }
      ]
    }
  ]
}